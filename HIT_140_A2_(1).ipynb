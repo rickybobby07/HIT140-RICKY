{
  "cells": [
    {
      "cell_type": "markdown",
      "metadata": {
        "id": "view-in-github",
        "colab_type": "text"
      },
      "source": [
        "<a href=\"https://colab.research.google.com/github/rickybobby07/HIT140-RICKY/blob/main/HIT_140_A2_(1).ipynb\" target=\"_parent\"><img src=\"https://colab.research.google.com/assets/colab-badge.svg\" alt=\"Open In Colab\"/></a>"
      ]
    },
    {
      "cell_type": "code",
      "execution_count": 1,
      "id": "dcf6ed44",
      "metadata": {
        "id": "dcf6ed44"
      },
      "outputs": [],
      "source": [
        "import pandas as pd\n",
        "import numpy as np\n",
        "from sklearn.model_selection import train_test_split\n",
        "from sklearn import metrics\n",
        "import matplotlib.pyplot as plt\n",
        "from sklearn.model_selection import LeaveOneOut\n",
        "from sklearn.model_selection import cross_val_score\n",
        "import sklearn.linear_model as skl_lm\n",
        "\n"
      ]
    },
    {
      "cell_type": "markdown",
      "id": "73f96ea8",
      "metadata": {
        "id": "73f96ea8"
      },
      "source": [
        "## Exploratory Data Analysis"
      ]
    },
    {
      "cell_type": "code",
      "source": [
        "data = pd.read_csv(\"/content/fairfield_data (1).csv\", sep = \",\", encoding=\"ISO-8859-1\")"
      ],
      "metadata": {
        "id": "bv2turQp_LfV"
      },
      "id": "bv2turQp_LfV",
      "execution_count": 24,
      "outputs": []
    },
    {
      "cell_type": "markdown",
      "id": "7a13076e",
      "metadata": {
        "id": "7a13076e"
      },
      "source": [
        "## Regression Modelling"
      ]
    },
    {
      "cell_type": "code",
      "execution_count": 16,
      "id": "e6300f9f",
      "metadata": {
        "colab": {
          "base_uri": "https://localhost:8080/"
        },
        "id": "e6300f9f",
        "outputId": "16b6fd16-82ee-4c35-db6c-3730604b70a7"
      },
      "outputs": [
        {
          "output_type": "stream",
          "name": "stdout",
          "text": [
            "                            OLS Regression Results                            \n",
            "==============================================================================\n",
            "Dep. Variable:                Mercury   R-squared:                       0.159\n",
            "Model:                            OLS   Adj. R-squared:                  0.045\n",
            "Method:                 Least Squares   F-statistic:                     1.397\n",
            "Date:                Wed, 23 Nov 2022   Prob (F-statistic):              0.198\n",
            "Time:                        05:30:51   Log-Likelihood:                -3.5105\n",
            "No. Observations:                  85   AIC:                             29.02\n",
            "Df Residuals:                      74   BIC:                             55.89\n",
            "Df Model:                          10                                         \n",
            "Covariance Type:            nonrobust                                         \n",
            "=================================================================================\n",
            "                    coef    std err          t      P>|t|      [0.025      0.975]\n",
            "---------------------------------------------------------------------------------\n",
            "const             0.7964      0.236      3.375      0.001       0.326       1.267\n",
            "Fish           6.362e-05      0.027      0.002      0.998      -0.055       0.055\n",
            "Elevation        -0.0002   7.49e-05     -2.626      0.010      -0.000   -4.75e-05\n",
            "Drainage Area  8.593e-05      0.000      0.192      0.848      -0.001       0.001\n",
            "Surface Area   -6.36e-06   2.15e-05     -0.295      0.768   -4.93e-05    3.65e-05\n",
            "Max Depth        -0.0018      0.002     -1.216      0.228      -0.005       0.001\n",
            "RF               -0.3063      0.282     -1.088      0.280      -0.867       0.255\n",
            "FR               -0.0004      0.003     -0.145      0.885      -0.006       0.005\n",
            "Dam              -0.0260      0.067     -0.387      0.700      -0.160       0.108\n",
            "RT                0.0021      0.046      0.047      0.963      -0.089       0.093\n",
            "RS                0.0906      0.080      1.128      0.263      -0.069       0.251\n",
            "==============================================================================\n",
            "Omnibus:                        6.869   Durbin-Watson:                   2.051\n",
            "Prob(Omnibus):                  0.032   Jarque-Bera (JB):                6.979\n",
            "Skew:                           0.701   Prob(JB):                       0.0305\n",
            "Kurtosis:                       2.926   Cond. No.                     2.47e+04\n",
            "==============================================================================\n",
            "\n",
            "Notes:\n",
            "[1] Standard Errors assume that the covariance matrix of the errors is correctly specified.\n",
            "[2] The condition number is large, 2.47e+04. This might indicate that there are\n",
            "strong multicollinearity or other numerical problems.\n"
          ]
        },
        {
          "output_type": "stream",
          "name": "stderr",
          "text": [
            "/usr/local/lib/python3.7/dist-packages/statsmodels/tsa/tsatools.py:142: FutureWarning: In a future version of pandas all arguments of concat except for the argument 'objs' will be keyword-only\n",
            "  x = pd.concat(x[::order], 1)\n"
          ]
        }
      ],
      "source": [
        "import statsmodels.api as sm\n",
        "\n",
        "#add constant to predictor variables\n",
        "x = sm.add_constant(X_train)\n",
        "\n",
        "#fit linear regression model\n",
        "model = sm.OLS(y_train, x).fit()\n",
        "\n",
        "#view model summary\n",
        "print(model.summary())"
      ]
    },
    {
      "cell_type": "code",
      "execution_count": 17,
      "id": "0f598f86",
      "metadata": {
        "id": "0f598f86"
      },
      "outputs": [],
      "source": [
        "lm = skl_lm.LinearRegression()\n",
        "model = lm.fit(X_train, \n",
        "               y_train)"
      ]
    },
    {
      "cell_type": "code",
      "execution_count": 18,
      "id": "fc3539b6",
      "metadata": {
        "colab": {
          "base_uri": "https://localhost:8080/"
        },
        "id": "fc3539b6",
        "outputId": "c14eb5cd-d82a-4212-b842-f6ca8baaa50a"
      },
      "outputs": [
        {
          "output_type": "stream",
          "name": "stdout",
          "text": [
            "Folds: 10, MSE: 0.08027855555635814, STD: 0.02598705356009562\n"
          ]
        }
      ],
      "source": [
        "loo = LeaveOneOut()\n",
        "loo.get_n_splits(X_train)\n",
        "from sklearn.model_selection import KFold\n",
        "\n",
        "crossvalidation = KFold(n_splits = 10, \n",
        "                        random_state = 42,\n",
        "                       shuffle = True)\n",
        "\n",
        "scores = cross_val_score(model, \n",
        "                         X_train,\n",
        "                         y_train,\n",
        "                         scoring = \"neg_mean_squared_error\", \n",
        "                         cv = crossvalidation,\n",
        "                         n_jobs = 1)\n",
        "\n",
        "print(\"Folds: \" + str(len(scores)) + \", MSE: \" + str(np.mean(np.abs(scores))) + \", STD: \" + str(np.std(scores)))"
      ]
    },
    {
      "cell_type": "markdown",
      "id": "79f5e906",
      "metadata": {
        "id": "79f5e906"
      },
      "source": [
        "## Testing"
      ]
    },
    {
      "cell_type": "code",
      "execution_count": 19,
      "id": "d78b7f9c",
      "metadata": {
        "colab": {
          "base_uri": "https://localhost:8080/"
        },
        "id": "d78b7f9c",
        "outputId": "1fa6ac43-2407-49e8-a790-d0e462583da9"
      },
      "outputs": [
        {
          "output_type": "stream",
          "name": "stdout",
          "text": [
            "0.22630147858802638\n"
          ]
        }
      ],
      "source": [
        "pred = model.predict(X_test)\n",
        "\n",
        "from sklearn.metrics import mean_squared_error\n",
        "\n",
        "MSE = mean_squared_error(y_test, pred)\n",
        "    \n",
        "print(MSE)"
      ]
    },
    {
      "cell_type": "code",
      "execution_count": 19,
      "id": "2d4c22f1",
      "metadata": {
        "id": "2d4c22f1"
      },
      "outputs": [],
      "source": []
    }
  ],
  "metadata": {
    "kernelspec": {
      "display_name": "Python 3.11.0 64-bit",
      "language": "python",
      "name": "python3"
    },
    "language_info": {
      "codemirror_mode": {
        "name": "ipython",
        "version": 3
      },
      "file_extension": ".py",
      "mimetype": "text/x-python",
      "name": "python",
      "nbconvert_exporter": "python",
      "pygments_lexer": "ipython3",
      "version": "3.11.0"
    },
    "vscode": {
      "interpreter": {
        "hash": "e17c78a14aa2424c0334c81e4198d56011288d192840c45bb969b898c2ce6915"
      }
    },
    "colab": {
      "provenance": [],
      "toc_visible": true,
      "include_colab_link": true
    }
  },
  "nbformat": 4,
  "nbformat_minor": 5
}